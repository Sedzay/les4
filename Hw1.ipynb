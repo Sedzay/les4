{
  "nbformat": 4,
  "nbformat_minor": 0,
  "metadata": {
    "colab": {
      "provenance": [],
      "authorship_tag": "ABX9TyPA79XrqZzJkam4gHFHqnLV",
      "include_colab_link": true
    },
    "kernelspec": {
      "name": "python3",
      "display_name": "Python 3"
    },
    "language_info": {
      "name": "python"
    }
  },
  "cells": [
    {
      "cell_type": "markdown",
      "metadata": {
        "id": "view-in-github",
        "colab_type": "text"
      },
      "source": [
        "<a href=\"https://colab.research.google.com/github/Sedzay/les4/blob/main/Hw1.ipynb\" target=\"_parent\"><img src=\"https://colab.research.google.com/assets/colab-badge.svg\" alt=\"Open In Colab\"/></a>"
      ]
    },
    {
      "cell_type": "code",
      "execution_count": 31,
      "metadata": {
        "colab": {
          "base_uri": "https://localhost:8080/"
        },
        "id": "6G4aGwY-8v78",
        "outputId": "e0f78dc6-3232-42b5-e6da-c0dd258ff742"
      },
      "outputs": [
        {
          "output_type": "stream",
          "name": "stdout",
          "text": [
            "[ 1  2  3  4  5  6  7  8  9 10]\n"
          ]
        }
      ],
      "source": [
        "import numpy as np\n",
        "\n",
        "#ЗАВДАННЯ 1\n",
        "\n",
        "#1.Створіть одновимірний масив (вектор) з першими 10-ма натуральними числами та виведіть його значення.\n",
        "vector = np.arange(1, 11)\n",
        "print(vector)"
      ]
    },
    {
      "cell_type": "code",
      "source": [
        "#2.Створіть двовимірний масив (матрицю) розміром 3x3, заповніть його нулями та виведіть його значення.\n",
        "mat_zero = np.zeros((3,3))\n",
        "print(mat_zero)"
      ],
      "metadata": {
        "colab": {
          "base_uri": "https://localhost:8080/"
        },
        "id": "gKr7omHbnVW9",
        "outputId": "f9c03a5b-9d92-4a91-d75a-aa10c38cae55"
      },
      "execution_count": 32,
      "outputs": [
        {
          "output_type": "stream",
          "name": "stdout",
          "text": [
            "[[0. 0. 0.]\n",
            " [0. 0. 0.]\n",
            " [0. 0. 0.]]\n"
          ]
        }
      ]
    },
    {
      "cell_type": "code",
      "source": [
        "#3.Створіть масив розміром 5x5, заповніть його випадковими цілими числами в діапазоні від 1 до 10 та виведіть його значення.\n",
        "mat_rand = np.random.randint(1,10,(5,5))\n",
        "print(mat_rand)"
      ],
      "metadata": {
        "colab": {
          "base_uri": "https://localhost:8080/"
        },
        "id": "7fZ24Ljznb3N",
        "outputId": "b8f29c1d-17af-4fa9-8e01-276e726c5d4f"
      },
      "execution_count": 3,
      "outputs": [
        {
          "output_type": "stream",
          "name": "stdout",
          "text": [
            "[[2 1 9 5 1]\n",
            " [7 3 5 2 6]\n",
            " [4 5 5 4 8]\n",
            " [2 2 8 8 1]\n",
            " [3 4 3 6 9]]\n"
          ]
        }
      ]
    },
    {
      "cell_type": "code",
      "source": [
        "#4.Створіть масив розміром 4x4, заповніть його випадковими дійсними числами в діапазоні від 0 до 1 та виведіть його значення.\n",
        "mat_rand_2 = np.random.random((4,4))\n",
        "print(mat_rand_2)"
      ],
      "metadata": {
        "colab": {
          "base_uri": "https://localhost:8080/"
        },
        "id": "Tl5MSRp3ngEO",
        "outputId": "cc7e327b-130d-47dc-c1d8-91dd3f70540e"
      },
      "execution_count": 4,
      "outputs": [
        {
          "output_type": "stream",
          "name": "stdout",
          "text": [
            "[[0.38641911 0.44046495 0.40475733 0.44225404]\n",
            " [0.03012328 0.77600531 0.55095838 0.3810734 ]\n",
            " [0.52926578 0.9568769  0.17582131 0.11830284]\n",
            " [0.86294567 0.07486688 0.82509486 0.83613181]]\n"
          ]
        }
      ]
    },
    {
      "cell_type": "code",
      "source": [
        "#5.Створіть два одновимірних масиви розміром 5, заповніть їх випадковими цілими числами\n",
        "#в діапазоні від 1 до 10 та виконайте на них поелементні операції додавання, віднімання та множення.\n",
        "mat_1 = np.random.randint(1,10,5)\n",
        "mat_2 = np.random.randint(1,10,5)\n",
        "sum = mat_1 + mat_2\n",
        "minus = mat_1 - mat_2\n",
        "mult = mat_1 * mat_2\n",
        "print(mat_1)\n",
        "print(mat_2)\n",
        "print(sum)\n",
        "print(minus)\n",
        "print(mult)"
      ],
      "metadata": {
        "colab": {
          "base_uri": "https://localhost:8080/"
        },
        "id": "oMvNAoPanj2j",
        "outputId": "3390a1a8-8f3c-4eb9-fb85-7a4b081661ad"
      },
      "execution_count": 5,
      "outputs": [
        {
          "output_type": "stream",
          "name": "stdout",
          "text": [
            "[4 7 4 5 8]\n",
            "[7 4 1 5 5]\n",
            "[11 11  5 10 13]\n",
            "[-3  3  3  0  3]\n",
            "[28 28  4 25 40]\n"
          ]
        }
      ]
    },
    {
      "cell_type": "code",
      "source": [
        "#6.Створіть два вектори розміром 7, заповніть довільними числами та знайдіть їх скалярний добуток\n",
        "vec_1 = np.random.rand(7)\n",
        "vec_2 = np.random.rand(7)\n",
        "sk_mult = np.dot(vec_1,vec_2)\n",
        "print(\"vec_1: \",vec_1)\n",
        "print(\"vec_2: \",vec_2)\n",
        "print(\"sk_mult: \",sk_mult)"
      ],
      "metadata": {
        "colab": {
          "base_uri": "https://localhost:8080/"
        },
        "id": "qxUGVHdvnrRz",
        "outputId": "8f05b80a-e0fa-4ea3-e1c0-345f4ea65327"
      },
      "execution_count": 6,
      "outputs": [
        {
          "output_type": "stream",
          "name": "stdout",
          "text": [
            "vec_1:  [0.23769421 0.04486228 0.50543143 0.37625245 0.5928054  0.62994188\n",
            " 0.14260031]\n",
            "vec_2:  [0.9338413  0.94637988 0.60229666 0.38776628 0.363188   0.20434528\n",
            " 0.27676506]\n",
            "sk_mult:  1.0982353478002187\n"
          ]
        }
      ]
    },
    {
      "cell_type": "code",
      "source": [
        "#7.Створіть дві матриці розміром 2x2 та 2x3, заповніть їх випадковими цілими числами в діапазоні від 1 до 10 та перемножте їх між собою\n",
        "m_2_2 = np.random.randint(1,10,(2,2))\n",
        "m_2_3 = np.random.randint(1,10,(2,3))\n",
        "dot_mult = np.dot(m_2_2,m_2_3)\n",
        "print(\"m_2_2: \",m_2_2)\n",
        "print(\"m_2_3: \",m_2_3)\n",
        "print(\"dot_mult: \",dot_mult)"
      ],
      "metadata": {
        "colab": {
          "base_uri": "https://localhost:8080/"
        },
        "id": "ybBXY3-KnvgG",
        "outputId": "78042981-f7a1-4f72-c727-277906c5bcdb"
      },
      "execution_count": 8,
      "outputs": [
        {
          "output_type": "stream",
          "name": "stdout",
          "text": [
            "m_2_2:  [[8 4]\n",
            " [3 4]]\n",
            "m_2_3:  [[9 8 2]\n",
            " [6 4 1]]\n",
            "dot_mult:  [[96 80 20]\n",
            " [51 40 10]]\n"
          ]
        }
      ]
    },
    {
      "cell_type": "code",
      "source": [
        "#8.Створіть матрицю розміром 3x3, заповніть її випадковими цілими числами в діапазоні від 1 до 10 та знайдіть її обернену матрицю\n",
        "m_3_3 = np.random.randint(1,10,(2,2))\n",
        "print(\"m_3_3: \",m_3_3)\n",
        "m_inv = np.linalg.inv(m_3_3)\n",
        "print(\"m_inv: \",m_inv)"
      ],
      "metadata": {
        "colab": {
          "base_uri": "https://localhost:8080/"
        },
        "id": "zFw7GVQRn_9R",
        "outputId": "b9ec1399-2e01-4b96-f7d0-e58992debab8"
      },
      "execution_count": 9,
      "outputs": [
        {
          "output_type": "stream",
          "name": "stdout",
          "text": [
            "m_3_3:  [[7 3]\n",
            " [4 5]]\n",
            "m_inv:  [[ 0.2173913  -0.13043478]\n",
            " [-0.17391304  0.30434783]]\n"
          ]
        }
      ]
    },
    {
      "cell_type": "code",
      "source": [
        "#9.Створіть матрицю розміром 4x4, заповніть її випадковими дійсними числами в діапазоні від 0 до 1 та транспонуйте її\n",
        "m_4_4 = np.random.random((4,4))\n",
        "print(\"m_4_4: \",m_4_4)\n",
        "mT = m_4_4.T\n",
        "print(\"mT: \",mT)"
      ],
      "metadata": {
        "colab": {
          "base_uri": "https://localhost:8080/"
        },
        "id": "nMR5V2EwoGcb",
        "outputId": "d649c074-765d-4d9e-8755-bfc7d3331f37"
      },
      "execution_count": 10,
      "outputs": [
        {
          "output_type": "stream",
          "name": "stdout",
          "text": [
            "m_4_4:  [[0.1107879  0.3126403  0.45697913 0.65894007]\n",
            " [0.25425752 0.64110126 0.20012361 0.65762481]\n",
            " [0.77828922 0.7795984  0.61032815 0.30900035]\n",
            " [0.69773491 0.8596183  0.62532376 0.98240783]]\n",
            "mT:  [[0.1107879  0.25425752 0.77828922 0.69773491]\n",
            " [0.3126403  0.64110126 0.7795984  0.8596183 ]\n",
            " [0.45697913 0.20012361 0.61032815 0.62532376]\n",
            " [0.65894007 0.65762481 0.30900035 0.98240783]]\n"
          ]
        }
      ]
    },
    {
      "cell_type": "code",
      "source": [
        "#10.Створіть матрицю розміром 3x4 та вектор розміром 4, заповніть їх випадковими цілими числами в діапазоні\n",
        "#від 1 до 10 та перемножте матрицю на вектор\n",
        "m_3_4 = np.random.randint(1,10,(3,4))\n",
        "vec_4 = np.random.randint(1,10,4)\n",
        "print(\"m_3_4: \",m_3_4)\n",
        "print(\"vec_4: \",vec_4)\n",
        "mult_vex_mat = np.dot(m_3_4,vec_4)\n",
        "print(\"mult_vex_mat: \",mult_vex_mat)"
      ],
      "metadata": {
        "colab": {
          "base_uri": "https://localhost:8080/"
        },
        "id": "9vjjmR0PoN4w",
        "outputId": "55b0a964-25d1-43a6-922e-bf66579e846c"
      },
      "execution_count": 11,
      "outputs": [
        {
          "output_type": "stream",
          "name": "stdout",
          "text": [
            "m_3_4:  [[2 4 2 5]\n",
            " [9 9 3 3]\n",
            " [8 3 2 3]]\n",
            "vec_4:  [8 2 1 6]\n",
            "mult_vex_mat:  [ 56 111  90]\n"
          ]
        }
      ]
    },
    {
      "cell_type": "code",
      "source": [
        "#11.Створіть матрицю розміром 2x3 та вектор розміром 3, заповніть їх випадковими дійсними числами\n",
        "#в діапазоні від 0 до 1 та перемножте матрицю на вектор.\n",
        "mat_2_3 = np.random.randint(1,10,(2,3))\n",
        "vec_3 = np.random.randint(1,10,3)\n",
        "print(\"mat_2_3: \",mat_2_3)\n",
        "print(\"vec_3: \",vec_3)\n",
        "mult_vex_mat = np.dot(mat_2_3,vec_3)\n",
        "print(\"mult_vex_mat: \",mult_vex_mat)"
      ],
      "metadata": {
        "colab": {
          "base_uri": "https://localhost:8080/"
        },
        "id": "QItflF56oSjX",
        "outputId": "924947eb-d147-4d7e-c9ac-e8c89b1c708c"
      },
      "execution_count": 12,
      "outputs": [
        {
          "output_type": "stream",
          "name": "stdout",
          "text": [
            "mat_2_3:  [[4 6 3]\n",
            " [7 2 2]]\n",
            "vec_3:  [6 3 6]\n",
            "mult_vex_mat:  [60 60]\n"
          ]
        }
      ]
    },
    {
      "cell_type": "code",
      "source": [
        "#12.Створіть дві матриці розміром 2x2, заповніть їх випадковими цілими числами в діапазоні від 1 до 10 та виконайте їхнє поелементне множення.\n",
        "m1_2_2 = np.random.randint(1,10,(2,2))\n",
        "m2_2_2 = np.random.randint(1,10,(2,2))\n",
        "print(\"m1_2_2: \",m1_2_2)\n",
        "print(\"m2_2_2: \",m2_2_2)\n",
        "res = m1_2_2*m2_2_2\n",
        "print(\"res: \",res)"
      ],
      "metadata": {
        "colab": {
          "base_uri": "https://localhost:8080/"
        },
        "id": "wdQCvqXtoXTz",
        "outputId": "a6f7534a-63e6-44cd-eafa-c8acc2ebb290"
      },
      "execution_count": 13,
      "outputs": [
        {
          "output_type": "stream",
          "name": "stdout",
          "text": [
            "m1_2_2:  [[7 5]\n",
            " [7 8]]\n",
            "m2_2_2:  [[8 4]\n",
            " [1 3]]\n",
            "res:  [[56 20]\n",
            " [ 7 24]]\n"
          ]
        }
      ]
    },
    {
      "cell_type": "code",
      "source": [
        "#13.Створіть дві матриці розміром 2x2, заповніть їх випадковими цілими числами в діапазоні від 1 до 10 та знайдіть їх добуток.\n",
        "m1_2_2 = np.random.randint(1,10,(2,2))\n",
        "m2_2_2 = np.random.randint(1,10,(2,2))\n",
        "print(\"m1_2_2: \",m1_2_2)\n",
        "print(\"m2_2_2: \",m2_2_2)\n",
        "res = np.dot(m1_2_2,m2_2_2)\n",
        "print(\"res: \",res)"
      ],
      "metadata": {
        "colab": {
          "base_uri": "https://localhost:8080/"
        },
        "id": "lD_La7L4obj5",
        "outputId": "0e8530d1-f1e3-40a9-bc74-b26d3b2c2ec4"
      },
      "execution_count": 14,
      "outputs": [
        {
          "output_type": "stream",
          "name": "stdout",
          "text": [
            "m1_2_2:  [[6 2]\n",
            " [2 1]]\n",
            "m2_2_2:  [[4 7]\n",
            " [8 4]]\n",
            "res:  [[40 50]\n",
            " [16 18]]\n"
          ]
        }
      ]
    },
    {
      "cell_type": "code",
      "source": [
        "#14.Створіть матрицю розміром 5x5, заповніть її випадковими цілими числами в діапазоні від 1 до 100 та знайдіть суму елементів матриці\n",
        "m100 = np.random.randint(1,100,(5,5))\n",
        "print(\"m100: \",m100)\n",
        "sum_el = np.sum(m100)\n",
        "print(\"sum_el: \",sum_el)"
      ],
      "metadata": {
        "colab": {
          "base_uri": "https://localhost:8080/"
        },
        "id": "QHvuvkZxo2fo",
        "outputId": "4adfbc4a-882c-487d-8a4c-f4e010b9aca1"
      },
      "execution_count": 15,
      "outputs": [
        {
          "output_type": "stream",
          "name": "stdout",
          "text": [
            "m100:  [[43 62 38 81  3]\n",
            " [63 82 17 71 54]\n",
            " [99 97 48 49 10]\n",
            " [50 54 35  4 12]\n",
            " [50 30 37 94 68]]\n",
            "sum_el:  1251\n"
          ]
        }
      ]
    },
    {
      "cell_type": "code",
      "source": [
        "#15.Створіть дві матриці розміром 4x4, заповніть їх випадковими цілими числами в діапазоні від 1 до 10 та знайдіть їхню різницю\n",
        "m1_4_4 = np.random.randint(1,10,(4,4))\n",
        "m2_4_4 = np.random.randint(1,10,(4,4))\n",
        "print(\"m1_4_4: \",m1_4_4)\n",
        "print(\"m2_4_4: \",m2_4_4)\n",
        "subtraction = m1_4_4 - m2_4_4\n",
        "print(\"subtraction: \",subtraction)"
      ],
      "metadata": {
        "colab": {
          "base_uri": "https://localhost:8080/"
        },
        "id": "MuoBNf5Qo8DY",
        "outputId": "e9a5b6cf-1b0b-4eff-c01b-8250ff046b3c"
      },
      "execution_count": 16,
      "outputs": [
        {
          "output_type": "stream",
          "name": "stdout",
          "text": [
            "m1_4_4:  [[2 5 5 6]\n",
            " [7 4 5 4]\n",
            " [8 8 3 5]\n",
            " [1 3 1 7]]\n",
            "m2_4_4:  [[9 2 6 7]\n",
            " [5 7 6 1]\n",
            " [9 9 6 4]\n",
            " [3 9 8 2]]\n",
            "subtraction:  [[-7  3 -1 -1]\n",
            " [ 2 -3 -1  3]\n",
            " [-1 -1 -3  1]\n",
            " [-2 -6 -7  5]]\n"
          ]
        }
      ]
    },
    {
      "cell_type": "code",
      "source": [
        "#16.Створіть матрицю розміром 3x3, заповніть її випадковими дійсними числами\n",
        "#в діапазоні від 0 до 1 та знайдіть вектор-стовпчик, що містить суму елементів кожного рядка матриці.\n",
        "m_3_3 = np.random.rand(3,3)\n",
        "print(\"m_3_3: \",m_3_3)\n",
        "sum = np.sum(m_3_3, axis = 1,keepdims=True)\n",
        "print(\"sum: \",sum)"
      ],
      "metadata": {
        "colab": {
          "base_uri": "https://localhost:8080/"
        },
        "id": "CiUKhJ5GpAt2",
        "outputId": "0361c058-ab39-4d66-e0d3-a6d5f29d6ba2"
      },
      "execution_count": 17,
      "outputs": [
        {
          "output_type": "stream",
          "name": "stdout",
          "text": [
            "m_3_3:  [[0.85689553 0.47298399 0.66327705]\n",
            " [0.80572861 0.2529805  0.07957344]\n",
            " [0.73276061 0.96139748 0.95380473]]\n",
            "sum:  [[1.99315657]\n",
            " [1.13828255]\n",
            " [2.64796282]]\n"
          ]
        }
      ]
    },
    {
      "cell_type": "code",
      "source": [
        "#17.Створіть матрицю розміром 3x4 з довільними цілими числами і створінь матрицю з квадратами цих чисел.\n",
        "m_3_4 = np.random.randint(np.iinfo(np.int32).min,np.iinfo(np.int32).max,(3,4))\n",
        "print(\"m_3_4: \",m_3_4)\n",
        "res = np.square(m_3_4)\n",
        "print(\"res: \",res)"
      ],
      "metadata": {
        "colab": {
          "base_uri": "https://localhost:8080/"
        },
        "id": "yv5-bip5pGcB",
        "outputId": "ae8b270c-d09a-4b96-80bd-ffcae0311aaf"
      },
      "execution_count": 18,
      "outputs": [
        {
          "output_type": "stream",
          "name": "stdout",
          "text": [
            "m_3_4:  [[  -40806268  -730096601   567760599   205273674]\n",
            " [ 1000705999 -1297207844  1728335668 -1067081812]\n",
            " [-1450638451  1328794273  -404236657  1828838545]]\n",
            "res:  [[   1665151508087824  533041046791753201  322352097776838801\n",
            "    42137281237458276]\n",
            " [1001412496434588001 1682748190535128336 2987144181281006224\n",
            "  1138663593501203344]\n",
            " [2104351915519679401 1765694219957598529  163407274862535649\n",
            "  3344650423677717025]]\n"
          ]
        }
      ]
    },
    {
      "cell_type": "code",
      "source": [
        "#18.Створіть вектор розміром 4, заповніть його випадковими цілими числами\n",
        "#в діапазоні від 1 до 50 та знайдіть вектор з квадратними коренями цих чисел\n",
        "m_4 = np.random.randint(0,50,4)\n",
        "print(\"m_4: \",m_4)\n",
        "res = np.sqrt(m_4)\n",
        "print(\"res: \",res)"
      ],
      "metadata": {
        "colab": {
          "base_uri": "https://localhost:8080/"
        },
        "id": "XohObI0DpLp-",
        "outputId": "a879fad5-f6d5-44d5-cb06-bcf2cea51435"
      },
      "execution_count": 19,
      "outputs": [
        {
          "output_type": "stream",
          "name": "stdout",
          "text": [
            "m_4:  [24 23 42  8]\n",
            "res:  [4.89897949 4.79583152 6.4807407  2.82842712]\n"
          ]
        }
      ]
    },
    {
      "cell_type": "code",
      "source": [
        "#ЗАВДАННЯ 2\n",
        "\n",
        "#1.Замініть усі непарні числа в arr на -1 arr = np.array([0, 1, 2, 3, 4, 5, 6, 7, 8, 9])\n",
        "arr = np.array([0, 1, 2, 3, 4, 5, 6, 7, 8, 9])\n",
        "print(\"arr before: \",arr)\n",
        "arr[arr%2 != 0] = -1\n",
        "print(\"arr after: \",arr)"
      ],
      "metadata": {
        "colab": {
          "base_uri": "https://localhost:8080/"
        },
        "id": "C6b9YTOApR9K",
        "outputId": "43d2d24c-61e3-4e6f-bbe8-39b35d008d3f"
      },
      "execution_count": 20,
      "outputs": [
        {
          "output_type": "stream",
          "name": "stdout",
          "text": [
            "arr before:  [0 1 2 3 4 5 6 7 8 9]\n",
            "arr after:  [ 0 -1  2 -1  4 -1  6 -1  8 -1]\n"
          ]
        }
      ]
    },
    {
      "cell_type": "code",
      "source": [
        "#2.Створіть та перетворіть 1D-масив на 2D-масив із 2 рядками\n",
        "arr_1d = np.random.randint(1,10,10)\n",
        "print(\"arr_1d: \",arr_1d)\n",
        "arr_2d = arr_1d.reshape(2, -1)\n",
        "print(\"arr_2d: \",arr_2d)"
      ],
      "metadata": {
        "colab": {
          "base_uri": "https://localhost:8080/"
        },
        "id": "jfEwdDh9pW8j",
        "outputId": "bb5212b5-bf28-4a95-aafe-c8d8b5eac2b5"
      },
      "execution_count": 21,
      "outputs": [
        {
          "output_type": "stream",
          "name": "stdout",
          "text": [
            "arr_1d:  [9 8 1 7 1 8 5 6 2 6]\n",
            "arr_2d:  [[9 8 1 7 1]\n",
            " [8 5 6 2 6]]\n"
          ]
        }
      ]
    },
    {
      "cell_type": "code",
      "source": [
        "#3.Створіть два двовимірні масиви а і b, та складіть масиви їх вертикально\n",
        "m1 = np.random.randint(1,10,10)\n",
        "m2 = np.random.randint(1,10,10)\n",
        "print(\"m1: \",m1)\n",
        "print(\"m2: \",m2)\n",
        "m3 = np.vstack((m1,m2))\n",
        "print(\"m3: \",m3)"
      ],
      "metadata": {
        "colab": {
          "base_uri": "https://localhost:8080/"
        },
        "id": "Fxb1jC9EpbP4",
        "outputId": "2089d66c-1105-411b-9c96-9ac340f0e7bb"
      },
      "execution_count": 22,
      "outputs": [
        {
          "output_type": "stream",
          "name": "stdout",
          "text": [
            "m1:  [6 4 5 4 7 6 1 1 7 2]\n",
            "m2:  [9 1 4 3 7 6 5 6 8 4]\n",
            "m3:  [[6 4 5 4 7 6 1 1 7 2]\n",
            " [9 1 4 3 7 6 5 6 8 4]]\n"
          ]
        }
      ]
    },
    {
      "cell_type": "code",
      "source": [
        "#4.Створіть наступний шаблон без жорсткого кодування(Hard coding) . Використовуйте лише функції Numpy\n",
        "#і наведений нижче масив введення Input:a = np.array([1,2,3])\n",
        "#Output:array([1, 1, 1, 2, 2, 2, 3, 3, 3, 1, 2, 3, 1, 2, 3, 1, 2, 3])\n",
        "f = np.array([1, 2, 3])\n",
        "repeated = np.repeat(f, 3)\n",
        "print(\"repeated : \",repeated)\n",
        "tile = np.tile(f,3)\n",
        "print(\"tile : \",tile)\n",
        "conc = np.concatenate((repeated,tile))\n",
        "print(\"conc : \",conc)"
      ],
      "metadata": {
        "colab": {
          "base_uri": "https://localhost:8080/"
        },
        "id": "t1R2lUvnpgld",
        "outputId": "0fa4e9b0-2d60-417b-f2cb-8b0a6aaee42a"
      },
      "execution_count": 23,
      "outputs": [
        {
          "output_type": "stream",
          "name": "stdout",
          "text": [
            "repeated :  [1 1 1 2 2 2 3 3 3]\n",
            "tile :  [1 2 3 1 2 3 1 2 3]\n",
            "conc :  [1 1 1 2 2 2 3 3 3 1 2 3 1 2 3 1 2 3]\n"
          ]
        }
      ]
    },
    {
      "cell_type": "code",
      "source": [
        "#5.Отримайте спільні елементи між a і b\n",
        "a = np.array([1,2,3,2,3,4,3,4,5,6])\n",
        "b = np.array([7,2,10,2,7,4,9,4,9,8])\n",
        "com_el = np.intersect1d(a, b)\n",
        "print(\"com_el: \",com_el)"
      ],
      "metadata": {
        "colab": {
          "base_uri": "https://localhost:8080/"
        },
        "id": "zdqrqGSZpmx2",
        "outputId": "b4b4a3c3-7258-42ab-fc59-e9cac16917dd"
      },
      "execution_count": 24,
      "outputs": [
        {
          "output_type": "stream",
          "name": "stdout",
          "text": [
            "com_el:  [2 4]\n"
          ]
        }
      ]
    },
    {
      "cell_type": "code",
      "source": [
        "#6.Отримайте позиції перших 5 максимальних значень у заданому масиві a\n",
        "np.random.seed(100)\n",
        "ran_m = np.random.uniform(1,50, 20)\n",
        "print(\"ran_m: \",ran_m)\n",
        "sort_m = np.argsort(ran_m)[-5:]\n",
        "res_5 = ran_m[sort_m]\n",
        "print(\"res_5: \",res_5)"
      ],
      "metadata": {
        "colab": {
          "base_uri": "https://localhost:8080/"
        },
        "id": "bHyetl93psON",
        "outputId": "fef12ba8-a842-4db3-9d70-5780be835ef0"
      },
      "execution_count": 25,
      "outputs": [
        {
          "output_type": "stream",
          "name": "stdout",
          "text": [
            "ran_m:  [27.62684215 14.64009987 21.80136195 42.39403048  1.23122395  6.95688692\n",
            " 33.86670515 41.466785    7.69862289 29.17957314 44.67477576 11.25090398\n",
            " 10.08108276  6.31046763 11.76517714 48.95256545 40.77247431  9.42510962\n",
            " 40.99501269 14.42961361]\n",
            "res_5:  [40.99501269 41.466785   42.39403048 44.67477576 48.95256545]\n"
          ]
        }
      ]
    },
    {
      "cell_type": "code",
      "source": [
        "#7. Вилучіть усі значення NaN із одновимірного масиву\n",
        "nan_m=np.array([1,2,3,np.nan,5,6,7,np.nan])\n",
        "nan_m_clean = nan_m[~np.isnan(nan_m)]\n",
        "print(\"nan_m_clean: \",nan_m_clean)"
      ],
      "metadata": {
        "colab": {
          "base_uri": "https://localhost:8080/"
        },
        "id": "Y2YloCKVpxTE",
        "outputId": "74da4c16-543e-41d2-b163-fb97137c8223"
      },
      "execution_count": 27,
      "outputs": [
        {
          "output_type": "stream",
          "name": "stdout",
          "text": [
            "nan_m_clean:  [1. 2. 3. 5. 6. 7.]\n"
          ]
        }
      ]
    },
    {
      "cell_type": "code",
      "source": [
        "#8. Обчисліть евклідову відстань між двома масивами a і b.\n",
        "a = np.array([1,2,3,4,5])\n",
        "b = np.array([4,5,6,7,8])\n",
        "evclid_dist = np.linalg.norm(a - b)\n",
        "print(\"evclid_dist: \",evclid_dist)"
      ],
      "metadata": {
        "colab": {
          "base_uri": "https://localhost:8080/"
        },
        "id": "UKpxMo6rp6Ul",
        "outputId": "06de1673-f226-40a7-e834-04e7d64a2fbb"
      },
      "execution_count": 28,
      "outputs": [
        {
          "output_type": "stream",
          "name": "stdout",
          "text": [
            "evclid_dist:  6.708203932499369\n"
          ]
        }
      ]
    },
    {
      "cell_type": "code",
      "source": [
        "#9. Знайдіть індекс 5-го повторення числа 1 у масиві x\n",
        "x = np.array([1, 2, 1, 1, 3, 4, 3, 1, 1, 2, 1, 1, 2])\n",
        "indices_with_1 = np.where(x == 1)[0]\n",
        "fifth_index = indices_with_1[4]\n",
        "print(\"fifth_index: \",fifth_index)"
      ],
      "metadata": {
        "colab": {
          "base_uri": "https://localhost:8080/"
        },
        "id": "gn80j0Pdp7sT",
        "outputId": "5339635b-479b-4e3f-faa6-1f4f675b3104"
      },
      "execution_count": 29,
      "outputs": [
        {
          "output_type": "stream",
          "name": "stdout",
          "text": [
            "fifth_index:  8\n"
          ]
        }
      ]
    },
    {
      "cell_type": "code",
      "source": [
        "#10. Знайдіть повторювані записи (від 2-го випадку повторення і далі) у заданому масиві і позначте їх як True. Перше повторення має бути False.\n",
        "# Input np.random.seed(100) a = np.random.randint(0, 5, 10) [0 0 3 0 2 4 2 2 2 2] #Output [False True False True False False True True True True]\n",
        "np.random.seed(100)\n",
        "a = np.random.randint(0, 5, 10)\n",
        "print(\"Input: \", a)\n",
        "\n",
        "# Знаходжу індекси повторювань\n",
        "_, indices = np.unique(a, return_index=True)\n",
        "#print(_)\n",
        "#print(indices)\n",
        "# Позначаю всі елементи як True\n",
        "repeated = np.full_like(a, True)\n",
        "#перші входження змінюю на false\n",
        "repeated[indices] = False\n",
        "#print(repeated)\n",
        "#0->false,1->true\n",
        "repeated = np.where(repeated, True, False)\n",
        "print(repeated)\n",
        "\n"
      ],
      "metadata": {
        "colab": {
          "base_uri": "https://localhost:8080/"
        },
        "id": "4tjiMWT4qAy_",
        "outputId": "0aeb1ba5-6e02-47e9-e903-9cf72c10c0ce"
      },
      "execution_count": 55,
      "outputs": [
        {
          "output_type": "stream",
          "name": "stdout",
          "text": [
            "Input:  [0 0 3 0 2 4 2 2 2 2]\n",
            "[False  True False  True False False  True  True  True  True]\n"
          ]
        }
      ]
    }
  ]
}