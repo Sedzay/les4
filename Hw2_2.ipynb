{
  "nbformat": 4,
  "nbformat_minor": 0,
  "metadata": {
    "colab": {
      "provenance": [],
      "authorship_tag": "ABX9TyMywwnUT87uxcCxSnS6P+zn",
      "include_colab_link": true
    },
    "kernelspec": {
      "name": "python3",
      "display_name": "Python 3"
    },
    "language_info": {
      "name": "python"
    }
  },
  "cells": [
    {
      "cell_type": "markdown",
      "metadata": {
        "id": "view-in-github",
        "colab_type": "text"
      },
      "source": [
        "<a href=\"https://colab.research.google.com/github/Sedzay/les4/blob/main/Hw2_2.ipynb\" target=\"_parent\"><img src=\"https://colab.research.google.com/assets/colab-badge.svg\" alt=\"Open In Colab\"/></a>"
      ]
    },
    {
      "cell_type": "code",
      "execution_count": 4,
      "metadata": {
        "id": "kC0BkhLIBLn4"
      },
      "outputs": [],
      "source": [
        "import pandas as pd\n",
        "#Прочитайте файл 2017_jun_final.csv за допомогою методу read_csv\n",
        "df = pd.read_csv(\"/content/sample_data/2017_jun_final.csv\")\n",
        "#print(df)"
      ]
    },
    {
      "cell_type": "code",
      "source": [
        "#Прочитайте отриману таблицю, використовуючи метод head\n",
        "df.head()"
      ],
      "metadata": {
        "colab": {
          "base_uri": "https://localhost:8080/",
          "height": 672
        },
        "id": "9nprAkdpF1XN",
        "outputId": "58f3d9da-268b-40dd-f8cf-c23d7895146b"
      },
      "execution_count": 7,
      "outputs": [
        {
          "output_type": "execute_result",
          "data": {
            "text/plain": [
              "   N                    Посада Мова програмування Спеціалізація  \\\n",
              "0  1        Junior QA engineer                NaN     Manual QA   \n",
              "1  2        Junior QA engineer                NaN     Manual QA   \n",
              "2  3         Software Engineer            C#/.NET           NaN   \n",
              "3  4         Software Engineer         JavaScript           NaN   \n",
              "4  5  Senior Software Engineer         JavaScript           NaN   \n",
              "\n",
              "  Загальний досвід роботи Досвід роботи на поточному місці  \\\n",
              "0                     0.5                              0.5   \n",
              "1         менше 3 місяців                  менше 3 місяців   \n",
              "2                       4                                1   \n",
              "3                       5                                4   \n",
              "4       10 і більше років                              0.5   \n",
              "\n",
              "   Зарплата на місяць  Зміна зарплати за 12 місяців   Місто   Розмір компанії  \\\n",
              "0                 400                             0  Харків        до 10 осіб   \n",
              "1                 430                           130  Харків  більше 1000 осіб   \n",
              "2                2500                           800    Київ      до 1000 осіб   \n",
              "3                2000                           400   Одеса       до 200 осіб   \n",
              "4                4500                           500    Інше        до 10 осіб   \n",
              "\n",
              "   ... Ще студент                    Рівень англійської  \\\n",
              "0  ...       True    Pre-intermediate (нище середнього)   \n",
              "1  ...       True  Upper-Intermediate (вище середнього)   \n",
              "2  ...      False               Intermediate (середній)   \n",
              "3  ...      False    Pre-intermediate (нище середнього)   \n",
              "4  ...      False               Intermediate (середній)   \n",
              "\n",
              "                   Предметна область      Дата заповнення  \\\n",
              "0                      iOS,eCommerce  12/06/2017 12:38:08   \n",
              "1                       Веб-розробка  12/06/2017 12:42:51   \n",
              "2  Веб-розробка,Корпоративні системи  12/06/2017 13:02:47   \n",
              "3  Desktop Applications,Веб-розробка  12/06/2017 13:03:01   \n",
              "4  Desktop Applications,Веб-розробка  12/06/2017 13:03:47   \n",
              "\n",
              "                                          User.Agent   exp current_job_exp  \\\n",
              "0  Mozilla/5.0 (Windows NT 10.0; Win64; x64) Appl...   0.5             0.5   \n",
              "1  Mozilla/5.0 (iPad; CPU OS 10_2_1 like Mac OS X...   0.0             0.0   \n",
              "2  Mozilla/5.0 (Windows NT 10.0; Win64; x64) Appl...   4.0             1.0   \n",
              "3  Mozilla/5.0 (Windows NT 6.1; Win64; x64) Apple...   5.0             4.0   \n",
              "4  Mozilla/5.0 (iPhone; CPU iPhone OS 10_3_2 like...  10.0             0.5   \n",
              "\n",
              "  salary Валюта  cls  \n",
              "0    400    NaN   QA  \n",
              "1    430    NaN   QA  \n",
              "2   2500    NaN  DEV  \n",
              "3   2000    NaN  DEV  \n",
              "4   4500    NaN  DEV  \n",
              "\n",
              "[5 rows x 25 columns]"
            ],
            "text/html": [
              "\n",
              "  <div id=\"df-25540435-6c4d-4040-9e2a-7428998501bc\" class=\"colab-df-container\">\n",
              "    <div>\n",
              "<style scoped>\n",
              "    .dataframe tbody tr th:only-of-type {\n",
              "        vertical-align: middle;\n",
              "    }\n",
              "\n",
              "    .dataframe tbody tr th {\n",
              "        vertical-align: top;\n",
              "    }\n",
              "\n",
              "    .dataframe thead th {\n",
              "        text-align: right;\n",
              "    }\n",
              "</style>\n",
              "<table border=\"1\" class=\"dataframe\">\n",
              "  <thead>\n",
              "    <tr style=\"text-align: right;\">\n",
              "      <th></th>\n",
              "      <th>N</th>\n",
              "      <th>Посада</th>\n",
              "      <th>Мова програмування</th>\n",
              "      <th>Спеціалізація</th>\n",
              "      <th>Загальний досвід роботи</th>\n",
              "      <th>Досвід роботи на поточному місці</th>\n",
              "      <th>Зарплата на місяць</th>\n",
              "      <th>Зміна зарплати за 12 місяців</th>\n",
              "      <th>Місто</th>\n",
              "      <th>Розмір компанії</th>\n",
              "      <th>...</th>\n",
              "      <th>Ще студент</th>\n",
              "      <th>Рівень англійської</th>\n",
              "      <th>Предметна область</th>\n",
              "      <th>Дата заповнення</th>\n",
              "      <th>User.Agent</th>\n",
              "      <th>exp</th>\n",
              "      <th>current_job_exp</th>\n",
              "      <th>salary</th>\n",
              "      <th>Валюта</th>\n",
              "      <th>cls</th>\n",
              "    </tr>\n",
              "  </thead>\n",
              "  <tbody>\n",
              "    <tr>\n",
              "      <th>0</th>\n",
              "      <td>1</td>\n",
              "      <td>Junior QA engineer</td>\n",
              "      <td>NaN</td>\n",
              "      <td>Manual QA</td>\n",
              "      <td>0.5</td>\n",
              "      <td>0.5</td>\n",
              "      <td>400</td>\n",
              "      <td>0</td>\n",
              "      <td>Харків</td>\n",
              "      <td>до 10 осіб</td>\n",
              "      <td>...</td>\n",
              "      <td>True</td>\n",
              "      <td>Pre-intermediate (нище середнього)</td>\n",
              "      <td>iOS,eCommerce</td>\n",
              "      <td>12/06/2017 12:38:08</td>\n",
              "      <td>Mozilla/5.0 (Windows NT 10.0; Win64; x64) Appl...</td>\n",
              "      <td>0.5</td>\n",
              "      <td>0.5</td>\n",
              "      <td>400</td>\n",
              "      <td>NaN</td>\n",
              "      <td>QA</td>\n",
              "    </tr>\n",
              "    <tr>\n",
              "      <th>1</th>\n",
              "      <td>2</td>\n",
              "      <td>Junior QA engineer</td>\n",
              "      <td>NaN</td>\n",
              "      <td>Manual QA</td>\n",
              "      <td>менше 3 місяців</td>\n",
              "      <td>менше 3 місяців</td>\n",
              "      <td>430</td>\n",
              "      <td>130</td>\n",
              "      <td>Харків</td>\n",
              "      <td>більше 1000 осіб</td>\n",
              "      <td>...</td>\n",
              "      <td>True</td>\n",
              "      <td>Upper-Intermediate (вище середнього)</td>\n",
              "      <td>Веб-розробка</td>\n",
              "      <td>12/06/2017 12:42:51</td>\n",
              "      <td>Mozilla/5.0 (iPad; CPU OS 10_2_1 like Mac OS X...</td>\n",
              "      <td>0.0</td>\n",
              "      <td>0.0</td>\n",
              "      <td>430</td>\n",
              "      <td>NaN</td>\n",
              "      <td>QA</td>\n",
              "    </tr>\n",
              "    <tr>\n",
              "      <th>2</th>\n",
              "      <td>3</td>\n",
              "      <td>Software Engineer</td>\n",
              "      <td>C#/.NET</td>\n",
              "      <td>NaN</td>\n",
              "      <td>4</td>\n",
              "      <td>1</td>\n",
              "      <td>2500</td>\n",
              "      <td>800</td>\n",
              "      <td>Київ</td>\n",
              "      <td>до 1000 осіб</td>\n",
              "      <td>...</td>\n",
              "      <td>False</td>\n",
              "      <td>Intermediate (середній)</td>\n",
              "      <td>Веб-розробка,Корпоративні системи</td>\n",
              "      <td>12/06/2017 13:02:47</td>\n",
              "      <td>Mozilla/5.0 (Windows NT 10.0; Win64; x64) Appl...</td>\n",
              "      <td>4.0</td>\n",
              "      <td>1.0</td>\n",
              "      <td>2500</td>\n",
              "      <td>NaN</td>\n",
              "      <td>DEV</td>\n",
              "    </tr>\n",
              "    <tr>\n",
              "      <th>3</th>\n",
              "      <td>4</td>\n",
              "      <td>Software Engineer</td>\n",
              "      <td>JavaScript</td>\n",
              "      <td>NaN</td>\n",
              "      <td>5</td>\n",
              "      <td>4</td>\n",
              "      <td>2000</td>\n",
              "      <td>400</td>\n",
              "      <td>Одеса</td>\n",
              "      <td>до 200 осіб</td>\n",
              "      <td>...</td>\n",
              "      <td>False</td>\n",
              "      <td>Pre-intermediate (нище середнього)</td>\n",
              "      <td>Desktop Applications,Веб-розробка</td>\n",
              "      <td>12/06/2017 13:03:01</td>\n",
              "      <td>Mozilla/5.0 (Windows NT 6.1; Win64; x64) Apple...</td>\n",
              "      <td>5.0</td>\n",
              "      <td>4.0</td>\n",
              "      <td>2000</td>\n",
              "      <td>NaN</td>\n",
              "      <td>DEV</td>\n",
              "    </tr>\n",
              "    <tr>\n",
              "      <th>4</th>\n",
              "      <td>5</td>\n",
              "      <td>Senior Software Engineer</td>\n",
              "      <td>JavaScript</td>\n",
              "      <td>NaN</td>\n",
              "      <td>10 і більше років</td>\n",
              "      <td>0.5</td>\n",
              "      <td>4500</td>\n",
              "      <td>500</td>\n",
              "      <td>Інше</td>\n",
              "      <td>до 10 осіб</td>\n",
              "      <td>...</td>\n",
              "      <td>False</td>\n",
              "      <td>Intermediate (середній)</td>\n",
              "      <td>Desktop Applications,Веб-розробка</td>\n",
              "      <td>12/06/2017 13:03:47</td>\n",
              "      <td>Mozilla/5.0 (iPhone; CPU iPhone OS 10_3_2 like...</td>\n",
              "      <td>10.0</td>\n",
              "      <td>0.5</td>\n",
              "      <td>4500</td>\n",
              "      <td>NaN</td>\n",
              "      <td>DEV</td>\n",
              "    </tr>\n",
              "  </tbody>\n",
              "</table>\n",
              "<p>5 rows × 25 columns</p>\n",
              "</div>\n",
              "    <div class=\"colab-df-buttons\">\n",
              "\n",
              "  <div class=\"colab-df-container\">\n",
              "    <button class=\"colab-df-convert\" onclick=\"convertToInteractive('df-25540435-6c4d-4040-9e2a-7428998501bc')\"\n",
              "            title=\"Convert this dataframe to an interactive table.\"\n",
              "            style=\"display:none;\">\n",
              "\n",
              "  <svg xmlns=\"http://www.w3.org/2000/svg\" height=\"24px\" viewBox=\"0 -960 960 960\">\n",
              "    <path d=\"M120-120v-720h720v720H120Zm60-500h600v-160H180v160Zm220 220h160v-160H400v160Zm0 220h160v-160H400v160ZM180-400h160v-160H180v160Zm440 0h160v-160H620v160ZM180-180h160v-160H180v160Zm440 0h160v-160H620v160Z\"/>\n",
              "  </svg>\n",
              "    </button>\n",
              "\n",
              "  <style>\n",
              "    .colab-df-container {\n",
              "      display:flex;\n",
              "      gap: 12px;\n",
              "    }\n",
              "\n",
              "    .colab-df-convert {\n",
              "      background-color: #E8F0FE;\n",
              "      border: none;\n",
              "      border-radius: 50%;\n",
              "      cursor: pointer;\n",
              "      display: none;\n",
              "      fill: #1967D2;\n",
              "      height: 32px;\n",
              "      padding: 0 0 0 0;\n",
              "      width: 32px;\n",
              "    }\n",
              "\n",
              "    .colab-df-convert:hover {\n",
              "      background-color: #E2EBFA;\n",
              "      box-shadow: 0px 1px 2px rgba(60, 64, 67, 0.3), 0px 1px 3px 1px rgba(60, 64, 67, 0.15);\n",
              "      fill: #174EA6;\n",
              "    }\n",
              "\n",
              "    .colab-df-buttons div {\n",
              "      margin-bottom: 4px;\n",
              "    }\n",
              "\n",
              "    [theme=dark] .colab-df-convert {\n",
              "      background-color: #3B4455;\n",
              "      fill: #D2E3FC;\n",
              "    }\n",
              "\n",
              "    [theme=dark] .colab-df-convert:hover {\n",
              "      background-color: #434B5C;\n",
              "      box-shadow: 0px 1px 3px 1px rgba(0, 0, 0, 0.15);\n",
              "      filter: drop-shadow(0px 1px 2px rgba(0, 0, 0, 0.3));\n",
              "      fill: #FFFFFF;\n",
              "    }\n",
              "  </style>\n",
              "\n",
              "    <script>\n",
              "      const buttonEl =\n",
              "        document.querySelector('#df-25540435-6c4d-4040-9e2a-7428998501bc button.colab-df-convert');\n",
              "      buttonEl.style.display =\n",
              "        google.colab.kernel.accessAllowed ? 'block' : 'none';\n",
              "\n",
              "      async function convertToInteractive(key) {\n",
              "        const element = document.querySelector('#df-25540435-6c4d-4040-9e2a-7428998501bc');\n",
              "        const dataTable =\n",
              "          await google.colab.kernel.invokeFunction('convertToInteractive',\n",
              "                                                    [key], {});\n",
              "        if (!dataTable) return;\n",
              "\n",
              "        const docLinkHtml = 'Like what you see? Visit the ' +\n",
              "          '<a target=\"_blank\" href=https://colab.research.google.com/notebooks/data_table.ipynb>data table notebook</a>'\n",
              "          + ' to learn more about interactive tables.';\n",
              "        element.innerHTML = '';\n",
              "        dataTable['output_type'] = 'display_data';\n",
              "        await google.colab.output.renderOutput(dataTable, element);\n",
              "        const docLink = document.createElement('div');\n",
              "        docLink.innerHTML = docLinkHtml;\n",
              "        element.appendChild(docLink);\n",
              "      }\n",
              "    </script>\n",
              "  </div>\n",
              "\n",
              "\n",
              "<div id=\"df-63f6f59c-a0da-46b3-8eaa-1b73dabd139a\">\n",
              "  <button class=\"colab-df-quickchart\" onclick=\"quickchart('df-63f6f59c-a0da-46b3-8eaa-1b73dabd139a')\"\n",
              "            title=\"Suggest charts\"\n",
              "            style=\"display:none;\">\n",
              "\n",
              "<svg xmlns=\"http://www.w3.org/2000/svg\" height=\"24px\"viewBox=\"0 0 24 24\"\n",
              "     width=\"24px\">\n",
              "    <g>\n",
              "        <path d=\"M19 3H5c-1.1 0-2 .9-2 2v14c0 1.1.9 2 2 2h14c1.1 0 2-.9 2-2V5c0-1.1-.9-2-2-2zM9 17H7v-7h2v7zm4 0h-2V7h2v10zm4 0h-2v-4h2v4z\"/>\n",
              "    </g>\n",
              "</svg>\n",
              "  </button>\n",
              "\n",
              "<style>\n",
              "  .colab-df-quickchart {\n",
              "      --bg-color: #E8F0FE;\n",
              "      --fill-color: #1967D2;\n",
              "      --hover-bg-color: #E2EBFA;\n",
              "      --hover-fill-color: #174EA6;\n",
              "      --disabled-fill-color: #AAA;\n",
              "      --disabled-bg-color: #DDD;\n",
              "  }\n",
              "\n",
              "  [theme=dark] .colab-df-quickchart {\n",
              "      --bg-color: #3B4455;\n",
              "      --fill-color: #D2E3FC;\n",
              "      --hover-bg-color: #434B5C;\n",
              "      --hover-fill-color: #FFFFFF;\n",
              "      --disabled-bg-color: #3B4455;\n",
              "      --disabled-fill-color: #666;\n",
              "  }\n",
              "\n",
              "  .colab-df-quickchart {\n",
              "    background-color: var(--bg-color);\n",
              "    border: none;\n",
              "    border-radius: 50%;\n",
              "    cursor: pointer;\n",
              "    display: none;\n",
              "    fill: var(--fill-color);\n",
              "    height: 32px;\n",
              "    padding: 0;\n",
              "    width: 32px;\n",
              "  }\n",
              "\n",
              "  .colab-df-quickchart:hover {\n",
              "    background-color: var(--hover-bg-color);\n",
              "    box-shadow: 0 1px 2px rgba(60, 64, 67, 0.3), 0 1px 3px 1px rgba(60, 64, 67, 0.15);\n",
              "    fill: var(--button-hover-fill-color);\n",
              "  }\n",
              "\n",
              "  .colab-df-quickchart-complete:disabled,\n",
              "  .colab-df-quickchart-complete:disabled:hover {\n",
              "    background-color: var(--disabled-bg-color);\n",
              "    fill: var(--disabled-fill-color);\n",
              "    box-shadow: none;\n",
              "  }\n",
              "\n",
              "  .colab-df-spinner {\n",
              "    border: 2px solid var(--fill-color);\n",
              "    border-color: transparent;\n",
              "    border-bottom-color: var(--fill-color);\n",
              "    animation:\n",
              "      spin 1s steps(1) infinite;\n",
              "  }\n",
              "\n",
              "  @keyframes spin {\n",
              "    0% {\n",
              "      border-color: transparent;\n",
              "      border-bottom-color: var(--fill-color);\n",
              "      border-left-color: var(--fill-color);\n",
              "    }\n",
              "    20% {\n",
              "      border-color: transparent;\n",
              "      border-left-color: var(--fill-color);\n",
              "      border-top-color: var(--fill-color);\n",
              "    }\n",
              "    30% {\n",
              "      border-color: transparent;\n",
              "      border-left-color: var(--fill-color);\n",
              "      border-top-color: var(--fill-color);\n",
              "      border-right-color: var(--fill-color);\n",
              "    }\n",
              "    40% {\n",
              "      border-color: transparent;\n",
              "      border-right-color: var(--fill-color);\n",
              "      border-top-color: var(--fill-color);\n",
              "    }\n",
              "    60% {\n",
              "      border-color: transparent;\n",
              "      border-right-color: var(--fill-color);\n",
              "    }\n",
              "    80% {\n",
              "      border-color: transparent;\n",
              "      border-right-color: var(--fill-color);\n",
              "      border-bottom-color: var(--fill-color);\n",
              "    }\n",
              "    90% {\n",
              "      border-color: transparent;\n",
              "      border-bottom-color: var(--fill-color);\n",
              "    }\n",
              "  }\n",
              "</style>\n",
              "\n",
              "  <script>\n",
              "    async function quickchart(key) {\n",
              "      const quickchartButtonEl =\n",
              "        document.querySelector('#' + key + ' button');\n",
              "      quickchartButtonEl.disabled = true;  // To prevent multiple clicks.\n",
              "      quickchartButtonEl.classList.add('colab-df-spinner');\n",
              "      try {\n",
              "        const charts = await google.colab.kernel.invokeFunction(\n",
              "            'suggestCharts', [key], {});\n",
              "      } catch (error) {\n",
              "        console.error('Error during call to suggestCharts:', error);\n",
              "      }\n",
              "      quickchartButtonEl.classList.remove('colab-df-spinner');\n",
              "      quickchartButtonEl.classList.add('colab-df-quickchart-complete');\n",
              "    }\n",
              "    (() => {\n",
              "      let quickchartButtonEl =\n",
              "        document.querySelector('#df-63f6f59c-a0da-46b3-8eaa-1b73dabd139a button');\n",
              "      quickchartButtonEl.style.display =\n",
              "        google.colab.kernel.accessAllowed ? 'block' : 'none';\n",
              "    })();\n",
              "  </script>\n",
              "</div>\n",
              "    </div>\n",
              "  </div>\n"
            ],
            "application/vnd.google.colaboratory.intrinsic+json": {
              "type": "dataframe",
              "variable_name": "df"
            }
          },
          "metadata": {},
          "execution_count": 7
        }
      ]
    },
    {
      "cell_type": "code",
      "source": [
        "#Визначте розмір таблиці за допомогою методу shape\n",
        "df.shape"
      ],
      "metadata": {
        "colab": {
          "base_uri": "https://localhost:8080/"
        },
        "id": "4ozycWbTGFzD",
        "outputId": "e25e286f-5c11-4629-ffd9-75a2e3f9a3d1"
      },
      "execution_count": 5,
      "outputs": [
        {
          "output_type": "execute_result",
          "data": {
            "text/plain": [
              "(8704, 25)"
            ]
          },
          "metadata": {},
          "execution_count": 5
        }
      ]
    },
    {
      "cell_type": "code",
      "source": [
        "#Визначте типи всіх стовпців за допомогою dataframe.dtypes\n",
        "df.dtypes"
      ],
      "metadata": {
        "colab": {
          "base_uri": "https://localhost:8080/"
        },
        "id": "K6HoyW6UGRwA",
        "outputId": "47cf1e43-b869-4e06-bcb3-011ca9794d22"
      },
      "execution_count": 6,
      "outputs": [
        {
          "output_type": "execute_result",
          "data": {
            "text/plain": [
              "N                                     int64\n",
              "Посада                               object\n",
              "Мова програмування                   object\n",
              "Спеціалізація                        object\n",
              "Загальний досвід роботи              object\n",
              "Досвід роботи на поточному місці     object\n",
              "Зарплата на місяць                    int64\n",
              "Зміна зарплати за 12 місяців          int64\n",
              "Місто                                object\n",
              "Розмір компанії                      object\n",
              "Тип компанії                         object\n",
              "Стать                                object\n",
              "Вік                                   int64\n",
              "Освіта                               object\n",
              "Університет                          object\n",
              "Ще студент                             bool\n",
              "Рівень англійської                   object\n",
              "Предметна область                    object\n",
              "Дата заповнення                      object\n",
              "User.Agent                           object\n",
              "exp                                 float64\n",
              "current_job_exp                     float64\n",
              "salary                                int64\n",
              "Валюта                               object\n",
              "cls                                  object\n",
              "dtype: object"
            ]
          },
          "metadata": {},
          "execution_count": 6
        }
      ]
    },
    {
      "cell_type": "code",
      "source": [
        "#Порахуйте, яка частка пропусків міститься в кожній колонці (використовуйте методи isnull та sum)\n",
        "missing_values = df.isnull().sum()\n",
        "print(missing_values)\n",
        "missing_percent = (missing_values / len(df))*100\n",
        "print(missing_percent)"
      ],
      "metadata": {
        "colab": {
          "base_uri": "https://localhost:8080/"
        },
        "id": "DVlrk_swGVy7",
        "outputId": "6d0cb26e-3601-4b89-a052-27f53de2828c"
      },
      "execution_count": 7,
      "outputs": [
        {
          "output_type": "stream",
          "name": "stdout",
          "text": [
            "N                                      0\n",
            "Посада                                 0\n",
            "Мова програмування                  3850\n",
            "Спеціалізація                       7219\n",
            "Загальний досвід роботи                0\n",
            "Досвід роботи на поточному місці       0\n",
            "Зарплата на місяць                     0\n",
            "Зміна зарплати за 12 місяців           0\n",
            "Місто                                  0\n",
            "Розмір компанії                        0\n",
            "Тип компанії                           0\n",
            "Стать                                  0\n",
            "Вік                                    0\n",
            "Освіта                                 0\n",
            "Університет                          358\n",
            "Ще студент                             0\n",
            "Рівень англійської                     0\n",
            "Предметна область                    223\n",
            "Дата заповнення                        0\n",
            "User.Agent                             0\n",
            "exp                                    0\n",
            "current_job_exp                        0\n",
            "salary                                 0\n",
            "Валюта                              8694\n",
            "cls                                 1574\n",
            "dtype: int64\n",
            "N                                    0.000000\n",
            "Посада                               0.000000\n",
            "Мова програмування                  44.232537\n",
            "Спеціалізація                       82.938879\n",
            "Загальний досвід роботи              0.000000\n",
            "Досвід роботи на поточному місці     0.000000\n",
            "Зарплата на місяць                   0.000000\n",
            "Зміна зарплати за 12 місяців         0.000000\n",
            "Місто                                0.000000\n",
            "Розмір компанії                      0.000000\n",
            "Тип компанії                         0.000000\n",
            "Стать                                0.000000\n",
            "Вік                                  0.000000\n",
            "Освіта                               0.000000\n",
            "Університет                          4.113051\n",
            "Ще студент                           0.000000\n",
            "Рівень англійської                   0.000000\n",
            "Предметна область                    2.562040\n",
            "Дата заповнення                      0.000000\n",
            "User.Agent                           0.000000\n",
            "exp                                  0.000000\n",
            "current_job_exp                      0.000000\n",
            "salary                               0.000000\n",
            "Валюта                              99.885110\n",
            "cls                                 18.083640\n",
            "dtype: float64\n"
          ]
        }
      ]
    },
    {
      "cell_type": "code",
      "source": [
        "#Видаліть усі стовпці з пропусками, крім стовпця \"Мова програмування\"\n",
        "df_cleaned = df.dropna(axis=1,how='any').join(df.loc[:,'Мова програмування'])\n",
        "'''\n",
        "columns_to_keep = ['Мова програмування']\n",
        "print(columns_to_keep)\n",
        "columns_to_drop = df.columns.difference(columns_to_keep)\n",
        "print(columns_to_drop)\n",
        "# Перетворення назв стовпців на їх індекси\n",
        "columns_to_drop_indices = [df.columns.get_loc(col) for col in columns_to_drop]\n",
        "print(columns_to_drop_indices)\n",
        "# Видалення стовпців з пропусками\n",
        "df_cleaned = df.dropna(subset=columns_to_drop_indices, how='any', axis=1)\n",
        "\n",
        "#У КОДІ ЩО ЗАКОМІЧЕННИЙ ЧОМУСЬ ВИДАЛЯЄ МОВУ ПРОГРАМУВАННЯ\n",
        "'''\n"
      ],
      "metadata": {
        "colab": {
          "base_uri": "https://localhost:8080/",
          "height": 104
        },
        "id": "sr9JCSY5IHeZ",
        "outputId": "4cfc3030-2774-4a10-c162-51eb0e65f187"
      },
      "execution_count": 8,
      "outputs": [
        {
          "output_type": "execute_result",
          "data": {
            "text/plain": [
              "\"\\ncolumns_to_keep = ['Мова програмування']\\nprint(columns_to_keep)\\ncolumns_to_drop = df.columns.difference(columns_to_keep)\\nprint(columns_to_drop)\\n# Перетворення назв стовпців на їх індекси\\ncolumns_to_drop_indices = [df.columns.get_loc(col) for col in columns_to_drop]\\nprint(columns_to_drop_indices)\\n# Видалення стовпців з пропусками\\ndf_cleaned = df.dropna(subset=columns_to_drop_indices, how='any', axis=1)\\n\\n#У КОДІ ЩО ЗАКОМІЧЕННИЙ ЧОМУСЬ ВИДАЛЯЄ МОВУ ПРОГРАМУВАННЯ\\n\""
            ],
            "application/vnd.google.colaboratory.intrinsic+json": {
              "type": "string"
            }
          },
          "metadata": {},
          "execution_count": 8
        }
      ]
    },
    {
      "cell_type": "code",
      "source": [
        "#Знову порахуйте, яка частка пропусків міститься в кожній колонці і переконайтеся,\n",
        "#що залишився тільки стовпець \"Мова.програмування\"\n",
        "missing_values_after_clean = df_cleaned.isnull().sum()\n",
        "print(missing_values_after_clean)"
      ],
      "metadata": {
        "colab": {
          "base_uri": "https://localhost:8080/"
        },
        "id": "ljXzTA8Tbzrt",
        "outputId": "a78857c9-c2bf-40db-f9a3-5fd64c4947db"
      },
      "execution_count": 9,
      "outputs": [
        {
          "output_type": "stream",
          "name": "stdout",
          "text": [
            "N                                      0\n",
            "Посада                                 0\n",
            "Загальний досвід роботи                0\n",
            "Досвід роботи на поточному місці       0\n",
            "Зарплата на місяць                     0\n",
            "Зміна зарплати за 12 місяців           0\n",
            "Місто                                  0\n",
            "Розмір компанії                        0\n",
            "Тип компанії                           0\n",
            "Стать                                  0\n",
            "Вік                                    0\n",
            "Освіта                                 0\n",
            "Ще студент                             0\n",
            "Рівень англійської                     0\n",
            "Дата заповнення                        0\n",
            "User.Agent                             0\n",
            "exp                                    0\n",
            "current_job_exp                        0\n",
            "salary                                 0\n",
            "Мова програмування                  3850\n",
            "dtype: int64\n"
          ]
        }
      ]
    },
    {
      "cell_type": "code",
      "source": [
        "#Видаліть усі рядки у вихідній таблиці за допомогою методу dropna\n",
        "df_droped = df.dropna()\n",
        "missing_values_after_drop = df_droped.isnull().sum()\n",
        "print(missing_values_after_drop)"
      ],
      "metadata": {
        "colab": {
          "base_uri": "https://localhost:8080/"
        },
        "id": "Ih4cJKombqyv",
        "outputId": "84960ea1-aff1-49bc-9f6d-85084148aee2"
      },
      "execution_count": 10,
      "outputs": [
        {
          "output_type": "stream",
          "name": "stdout",
          "text": [
            "N                                   0.0\n",
            "Посада                              0.0\n",
            "Мова програмування                  0.0\n",
            "Спеціалізація                       0.0\n",
            "Загальний досвід роботи             0.0\n",
            "Досвід роботи на поточному місці    0.0\n",
            "Зарплата на місяць                  0.0\n",
            "Зміна зарплати за 12 місяців        0.0\n",
            "Місто                               0.0\n",
            "Розмір компанії                     0.0\n",
            "Тип компанії                        0.0\n",
            "Стать                               0.0\n",
            "Вік                                 0.0\n",
            "Освіта                              0.0\n",
            "Університет                         0.0\n",
            "Ще студент                          0.0\n",
            "Рівень англійської                  0.0\n",
            "Предметна область                   0.0\n",
            "Дата заповнення                     0.0\n",
            "User.Agent                          0.0\n",
            "exp                                 0.0\n",
            "current_job_exp                     0.0\n",
            "salary                              0.0\n",
            "Валюта                              0.0\n",
            "cls                                 0.0\n",
            "dtype: float64\n"
          ]
        }
      ]
    },
    {
      "cell_type": "code",
      "source": [
        "#Визначте новий розмір таблиці за допомогою методу shape\n",
        "df.shape"
      ],
      "metadata": {
        "colab": {
          "base_uri": "https://localhost:8080/"
        },
        "id": "BTAbQ5rznMvl",
        "outputId": "c07b89a2-7ba3-4bee-ea24-3873cf989183"
      },
      "execution_count": 11,
      "outputs": [
        {
          "output_type": "execute_result",
          "data": {
            "text/plain": [
              "(8704, 25)"
            ]
          },
          "metadata": {},
          "execution_count": 11
        }
      ]
    },
    {
      "cell_type": "code",
      "source": [
        "#Створіть нову таблицю python_data, в якій будуть тільки рядки зі спеціалістами, які вказали мову програмування Python\n",
        "python_tbl = df[df['Мова програмування'] == 'Python']\n",
        "\n",
        "#python_tbl.head()\n"
      ],
      "metadata": {
        "id": "zdwHhYF5nlKp"
      },
      "execution_count": 12,
      "outputs": []
    },
    {
      "cell_type": "code",
      "source": [
        "#Визначте розмір таблиці python_data за допомогою методу shape\n",
        "python_tbl.shape"
      ],
      "metadata": {
        "colab": {
          "base_uri": "https://localhost:8080/"
        },
        "id": "i6J8-4yan8-9",
        "outputId": "e89f74d1-fdc4-4d33-bb5f-63f42702209c"
      },
      "execution_count": 13,
      "outputs": [
        {
          "output_type": "execute_result",
          "data": {
            "text/plain": [
              "(207, 25)"
            ]
          },
          "metadata": {},
          "execution_count": 13
        }
      ]
    },
    {
      "cell_type": "code",
      "source": [
        "#Використовуючи метод groupby, виконайте групування за стовпчиком \"Посада\"\n",
        "group_python_tbl = python_tbl.groupby('Посада')\n",
        "#for posada, group in group_python_tbl:\n",
        "    #print(\"Посада:\", posada)\n",
        "    #print(group.head())"
      ],
      "metadata": {
        "id": "DE_8w6tHoGCC"
      },
      "execution_count": 14,
      "outputs": []
    },
    {
      "cell_type": "code",
      "source": [
        "#Створіть новий DataFrame, де для згрупованих даних за стовпчиком \"Посада\",\n",
        "#виконайте агрегацію даних за допомогою методу agg і знайдіть мінімальне\n",
        "#та максимальне значення у стовпчику \"Зарплата.в.місяць\"\n",
        "aggregated_data = group_python_tbl.agg({'Зарплата на місяць': ['min', 'max']})\n",
        "print(aggregated_data)"
      ],
      "metadata": {
        "colab": {
          "base_uri": "https://localhost:8080/"
        },
        "id": "WR2P146xoaGz",
        "outputId": "3200286b-3309-4116-e48f-fccb9abc266e"
      },
      "execution_count": 16,
      "outputs": [
        {
          "output_type": "stream",
          "name": "stdout",
          "text": [
            "                         Зарплата на місяць      \n",
            "                                        min   max\n",
            "Посада                                           \n",
            "Junior Software Engineer                100  1250\n",
            "Senior Software Engineer               1300  9200\n",
            "Software Engineer                       500  5400\n",
            "System Architect                       3000  5000\n",
            "Technical Lead                         1425  6200\n"
          ]
        }
      ]
    },
    {
      "cell_type": "code",
      "source": [
        "#Створіть функцію fill_avg_salary, яка повертатиме середнє значення заробітної плати на місяць.\n",
        "def fill_avg_salary(dataframe):\n",
        "    # Обчислення середнього значення заробітної плати\n",
        "    avg_salary = dataframe['Зарплата на місяць'].mean()\n",
        "\n",
        "    return avg_salary"
      ],
      "metadata": {
        "id": "Gkny3oEGpjEd"
      },
      "execution_count": 17,
      "outputs": []
    },
    {
      "cell_type": "code",
      "source": [
        "#Використовуйте її для методу apply та створіть новий стовпчик \"avg\"\n",
        "aggregated_data['avg'] = group_python_tbl.apply(lambda aggregated_data: fill_avg_salary(aggregated_data))\n",
        "\n",
        "print(aggregated_data.head())"
      ],
      "metadata": {
        "colab": {
          "base_uri": "https://localhost:8080/"
        },
        "id": "PGdG39lLp9Y8",
        "outputId": "4e89d7a1-441c-4288-9225-4d4ea4492ae0"
      },
      "execution_count": 20,
      "outputs": [
        {
          "output_type": "stream",
          "name": "stdout",
          "text": [
            "                         Зарплата на місяць                avg\n",
            "                                        min   max             \n",
            "Посада                                                        \n",
            "Junior Software Engineer                100  1250   560.841270\n",
            "Senior Software Engineer               1300  9200  3387.096774\n",
            "Software Engineer                       500  5400  1799.070000\n",
            "System Architect                       3000  5000  4000.000000\n",
            "Technical Lead                         1425  6200  3165.909091\n"
          ]
        }
      ]
    },
    {
      "cell_type": "code",
      "source": [
        "#Створіть описову статистику за допомогою методу describe для нового стовпчика.\n",
        "avg_descr = aggregated_data['avg'].describe()\n",
        "print(avg_descr)"
      ],
      "metadata": {
        "colab": {
          "base_uri": "https://localhost:8080/"
        },
        "id": "PTF8bcFFwpjx",
        "outputId": "a692b9ad-304a-4de3-9014-564a6db99ad0"
      },
      "execution_count": 21,
      "outputs": [
        {
          "output_type": "stream",
          "name": "stdout",
          "text": [
            "count       5.000000\n",
            "mean     2582.583427\n",
            "std      1387.255829\n",
            "min       560.841270\n",
            "25%      1799.070000\n",
            "50%      3165.909091\n",
            "75%      3387.096774\n",
            "max      4000.000000\n",
            "Name: avg, dtype: float64\n"
          ]
        }
      ]
    },
    {
      "cell_type": "code",
      "source": [
        "#Збережіть отриману таблицю в CSV файл\n",
        "aggregated_data.to_csv('aggregated_data.csv')"
      ],
      "metadata": {
        "id": "HaJWUB-3w2RC"
      },
      "execution_count": 22,
      "outputs": []
    }
  ]
}